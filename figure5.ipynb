{
 "cells": [
  {
   "cell_type": "code",
   "execution_count": 1,
   "id": "crucial-payment",
   "metadata": {},
   "outputs": [],
   "source": [
    "import os\n",
    "import pandas as pd\n",
    "import seaborn as sns\n",
    "import matplotlib.pyplot as plt\n",
    "import matplotlib.gridspec as gridspec\n",
    "import scipy.stats as stats\n",
    "import seaborn as sns\n",
    "import numpy as np\n",
    "import math\n",
    "from string import ascii_uppercase"
   ]
  },
  {
   "cell_type": "code",
   "execution_count": 2,
   "id": "overall-scholarship",
   "metadata": {},
   "outputs": [
    {
     "data": {
      "text/html": [
       "<div>\n",
       "<style scoped>\n",
       "    .dataframe tbody tr th:only-of-type {\n",
       "        vertical-align: middle;\n",
       "    }\n",
       "\n",
       "    .dataframe tbody tr th {\n",
       "        vertical-align: top;\n",
       "    }\n",
       "\n",
       "    .dataframe thead th {\n",
       "        text-align: right;\n",
       "    }\n",
       "</style>\n",
       "<table border=\"1\" class=\"dataframe\">\n",
       "  <thead>\n",
       "    <tr style=\"text-align: right;\">\n",
       "      <th></th>\n",
       "      <th>user</th>\n",
       "      <th>domain</th>\n",
       "      <th>is_item_specific</th>\n",
       "      <th>n_ss_done</th>\n",
       "      <th>item</th>\n",
       "      <th>alpha</th>\n",
       "      <th>beta</th>\n",
       "    </tr>\n",
       "  </thead>\n",
       "  <tbody>\n",
       "    <tr>\n",
       "      <th>6500</th>\n",
       "      <td>firefly@active.fi</td>\n",
       "      <td>active.fi</td>\n",
       "      <td>True</td>\n",
       "      <td>14</td>\n",
       "      <td>1404</td>\n",
       "      <td>0.003601</td>\n",
       "      <td>0.493822</td>\n",
       "    </tr>\n",
       "    <tr>\n",
       "      <th>8604</th>\n",
       "      <td>ladybug@active.fi</td>\n",
       "      <td>active.fi</td>\n",
       "      <td>True</td>\n",
       "      <td>14</td>\n",
       "      <td>120</td>\n",
       "      <td>0.015314</td>\n",
       "      <td>0.717256</td>\n",
       "    </tr>\n",
       "    <tr>\n",
       "      <th>8595</th>\n",
       "      <td>koi@active.fi</td>\n",
       "      <td>active.fi</td>\n",
       "      <td>True</td>\n",
       "      <td>14</td>\n",
       "      <td>90</td>\n",
       "      <td>0.000796</td>\n",
       "      <td>0.565144</td>\n",
       "    </tr>\n",
       "    <tr>\n",
       "      <th>8596</th>\n",
       "      <td>koi@active.fi</td>\n",
       "      <td>active.fi</td>\n",
       "      <td>True</td>\n",
       "      <td>14</td>\n",
       "      <td>361</td>\n",
       "      <td>0.000796</td>\n",
       "      <td>0.565144</td>\n",
       "    </tr>\n",
       "    <tr>\n",
       "      <th>8597</th>\n",
       "      <td>koi@active.fi</td>\n",
       "      <td>active.fi</td>\n",
       "      <td>True</td>\n",
       "      <td>14</td>\n",
       "      <td>1981</td>\n",
       "      <td>0.000796</td>\n",
       "      <td>0.565144</td>\n",
       "    </tr>\n",
       "    <tr>\n",
       "      <th>...</th>\n",
       "      <td>...</td>\n",
       "      <td>...</td>\n",
       "      <td>...</td>\n",
       "      <td>...</td>\n",
       "      <td>...</td>\n",
       "      <td>...</td>\n",
       "      <td>...</td>\n",
       "    </tr>\n",
       "    <tr>\n",
       "      <th>4487</th>\n",
       "      <td>caterpillar@active.fi</td>\n",
       "      <td>active.fi</td>\n",
       "      <td>True</td>\n",
       "      <td>14</td>\n",
       "      <td>2006</td>\n",
       "      <td>0.025000</td>\n",
       "      <td>0.736338</td>\n",
       "    </tr>\n",
       "    <tr>\n",
       "      <th>4486</th>\n",
       "      <td>caterpillar@active.fi</td>\n",
       "      <td>active.fi</td>\n",
       "      <td>True</td>\n",
       "      <td>14</td>\n",
       "      <td>1453</td>\n",
       "      <td>0.025000</td>\n",
       "      <td>0.736338</td>\n",
       "    </tr>\n",
       "    <tr>\n",
       "      <th>4485</th>\n",
       "      <td>caterpillar@active.fi</td>\n",
       "      <td>active.fi</td>\n",
       "      <td>True</td>\n",
       "      <td>14</td>\n",
       "      <td>715</td>\n",
       "      <td>0.025000</td>\n",
       "      <td>0.736338</td>\n",
       "    </tr>\n",
       "    <tr>\n",
       "      <th>4484</th>\n",
       "      <td>caterpillar@active.fi</td>\n",
       "      <td>active.fi</td>\n",
       "      <td>True</td>\n",
       "      <td>14</td>\n",
       "      <td>331</td>\n",
       "      <td>0.025000</td>\n",
       "      <td>0.736338</td>\n",
       "    </tr>\n",
       "    <tr>\n",
       "      <th>4675</th>\n",
       "      <td>cicada@active.fi</td>\n",
       "      <td>active.fi</td>\n",
       "      <td>True</td>\n",
       "      <td>14</td>\n",
       "      <td>1435</td>\n",
       "      <td>0.000009</td>\n",
       "      <td>0.350296</td>\n",
       "    </tr>\n",
       "  </tbody>\n",
       "</table>\n",
       "<p>10600 rows × 7 columns</p>\n",
       "</div>"
      ],
      "text/plain": [
       "                       user     domain  is_item_specific  n_ss_done  item  \\\n",
       "6500      firefly@active.fi  active.fi              True         14  1404   \n",
       "8604      ladybug@active.fi  active.fi              True         14   120   \n",
       "8595          koi@active.fi  active.fi              True         14    90   \n",
       "8596          koi@active.fi  active.fi              True         14   361   \n",
       "8597          koi@active.fi  active.fi              True         14  1981   \n",
       "...                     ...        ...               ...        ...   ...   \n",
       "4487  caterpillar@active.fi  active.fi              True         14  2006   \n",
       "4486  caterpillar@active.fi  active.fi              True         14  1453   \n",
       "4485  caterpillar@active.fi  active.fi              True         14   715   \n",
       "4484  caterpillar@active.fi  active.fi              True         14   331   \n",
       "4675       cicada@active.fi  active.fi              True         14  1435   \n",
       "\n",
       "         alpha      beta  \n",
       "6500  0.003601  0.493822  \n",
       "8604  0.015314  0.717256  \n",
       "8595  0.000796  0.565144  \n",
       "8596  0.000796  0.565144  \n",
       "8597  0.000796  0.565144  \n",
       "...        ...       ...  \n",
       "4487  0.025000  0.736338  \n",
       "4486  0.025000  0.736338  \n",
       "4485  0.025000  0.736338  \n",
       "4484  0.025000  0.736338  \n",
       "4675  0.000009  0.350296  \n",
       "\n",
       "[10600 rows x 7 columns]"
      ]
     },
     "execution_count": 2,
     "metadata": {},
     "output_type": "execute_result"
    }
   ],
   "source": [
    "df = pd.read_csv(os.path.join(\"data\", \"human\", \"data_psy_estimates.csv\"),\n",
    "                 index_col=0)\n",
    "\n",
    "# Select only the user that complete the task\n",
    "df = df[df.n_ss_done == 14]\n",
    "df"
   ]
  },
  {
   "cell_type": "code",
   "execution_count": 26,
   "id": "animal-namibia",
   "metadata": {},
   "outputs": [
    {
     "data": {
      "text/plain": [
       "2047"
      ]
     },
     "execution_count": 26,
     "metadata": {},
     "output_type": "execute_result"
    }
   ],
   "source": [
    "items = np.unique(df.item)\n",
    "n_item = len(items)\n",
    "n_item"
   ]
  },
  {
   "cell_type": "code",
   "execution_count": 27,
   "id": "fitting-london",
   "metadata": {},
   "outputs": [],
   "source": [
    "alphas_a = np.zeros(n_item)\n",
    "betas_a = np.zeros(n_item)\n",
    "\n",
    "for i, a in enumerate(items):\n",
    "    df_a = df[df.item == a]\n",
    "    alphas_a[i] = df_a.alpha.mean()\n",
    "    betas_a[i] = df_a.beta.mean()"
   ]
  },
  {
   "cell_type": "code",
   "execution_count": 28,
   "id": "checked-arrangement",
   "metadata": {},
   "outputs": [
    {
     "data": {
      "text/plain": [
       "53"
      ]
     },
     "execution_count": 28,
     "metadata": {},
     "output_type": "execute_result"
    }
   ],
   "source": [
    "users = np.unique(df.user)\n",
    "n_user = len(users)\n",
    "n_user"
   ]
  },
  {
   "cell_type": "code",
   "execution_count": 29,
   "id": "improving-avenue",
   "metadata": {},
   "outputs": [],
   "source": [
    "alphas_u = np.zeros(n_user)\n",
    "betas_u = np.zeros(n_user)\n",
    "\n",
    "for i, u in enumerate(users):\n",
    "    df_u = df[df.user == u]\n",
    "    alphas_u[i] = np.mean(df_u.alpha.values)\n",
    "    betas_u[i] = np.mean(df_u.beta.values)\n",
    "# pd.DataFrame({\"alpha\": alphas_u, \"beta\": betas_u})"
   ]
  },
  {
   "cell_type": "markdown",
   "id": "precise-electric",
   "metadata": {},
   "source": [
    "# Plot"
   ]
  },
  {
   "cell_type": "code",
   "execution_count": 34,
   "id": "detected-fireplace",
   "metadata": {},
   "outputs": [],
   "source": [
    "fontsize_label = 18\n",
    "fontsize_tick = 12 \n",
    "fontsize_subtitle = 14\n",
    "fontsize_letter = 20\n",
    "fontsize_title = 24"
   ]
  },
  {
   "cell_type": "code",
   "execution_count": 35,
   "id": "assisted-anchor",
   "metadata": {},
   "outputs": [],
   "source": [
    "def joint_plot(alpha_values, beta_values, color=\"C1\"):\n",
    "    \n",
    "    # BOUNDS = [[2e-07, 0.025], [0.0001, 0.9999]]\n",
    "    \n",
    "    g = sns.jointplot(x=beta_values, y=np.log(alpha_values),\n",
    "                     joint_kws = dict(alpha=0.5,), color=color)\n",
    "    ax = g.ax_joint\n",
    "\n",
    "    ax.set_ylim(np.log([2e-07, 0.028]))\n",
    "    ax.set_yticks(np.log([2e-07, 5.19e-05, 0.025]))\n",
    "    ax.set_yticklabels((\"2e-07\", \"5.19e-05\", \"0.025\"), fontsize=fontsize_tick)\n",
    "\n",
    "    ax.set_xlabel(r\"$\\beta$\", fontsize=fontsize_label)\n",
    "    ax.set_ylabel(r\"$\\alpha$\", fontsize=fontsize_label)\n",
    "\n",
    "    ax.set_xticks((0, 0.5, 1.0))\n",
    "    ax.set_xlim(0, 1)\n",
    "    ax.xaxis.set_tick_params(labelsize=fontsize_tick)\n",
    "    \n",
    "    return g"
   ]
  },
  {
   "cell_type": "code",
   "execution_count": 36,
   "id": "toxic-nirvana",
   "metadata": {},
   "outputs": [],
   "source": [
    "class SeabornFig2Grid():\n",
    "\n",
    "    def __init__(self, seaborngrid, fig,  subplot_spec):\n",
    "        self.fig = fig\n",
    "        self.sg = seaborngrid\n",
    "        self.subplot = subplot_spec\n",
    "        if isinstance(self.sg, sns.axisgrid.FacetGrid) or \\\n",
    "            isinstance(self.sg, sns.axisgrid.PairGrid):\n",
    "            self._movegrid()\n",
    "        elif isinstance(self.sg, sns.axisgrid.JointGrid):\n",
    "            self._movejointgrid()\n",
    "        self._finalize()\n",
    "\n",
    "    def _movegrid(self):\n",
    "        \"\"\" Move PairGrid or Facetgrid \"\"\"\n",
    "        self._resize()\n",
    "        n = self.sg.axes.shape[0]\n",
    "        m = self.sg.axes.shape[1]\n",
    "        self.subgrid = gridspec.GridSpecFromSubplotSpec(n,m, subplot_spec=self.subplot)\n",
    "        for i in range(n):\n",
    "            for j in range(m):\n",
    "                self._moveaxes(self.sg.axes[i,j], self.subgrid[i,j])\n",
    "\n",
    "    def _movejointgrid(self):\n",
    "        \"\"\" Move Jointgrid \"\"\"\n",
    "        h= self.sg.ax_joint.get_position().height\n",
    "        h2= self.sg.ax_marg_x.get_position().height\n",
    "        r = int(np.round(h/h2))\n",
    "        self._resize()\n",
    "        self.subgrid = gridspec.GridSpecFromSubplotSpec(r+1,r+1, subplot_spec=self.subplot)\n",
    "\n",
    "        self._moveaxes(self.sg.ax_joint, self.subgrid[1:, :-1])\n",
    "        self._moveaxes(self.sg.ax_marg_x, self.subgrid[0, :-1])\n",
    "        self._moveaxes(self.sg.ax_marg_y, self.subgrid[1:, -1])\n",
    "\n",
    "    def _moveaxes(self, ax, gs):\n",
    "        # https://stackoverflow.com/a/46906599/4124317\n",
    "        ax.remove()\n",
    "        ax.figure=self.fig\n",
    "        self.fig.axes.append(ax)\n",
    "        self.fig.add_axes(ax)\n",
    "        ax._subplotspec = gs\n",
    "        ax.set_position(gs.get_position(self.fig))\n",
    "        ax.set_subplotspec(gs)\n",
    "\n",
    "    def _finalize(self):\n",
    "        plt.close(self.sg.fig)\n",
    "        self.fig.canvas.mpl_connect(\"resize_event\", self._resize)\n",
    "        self.fig.canvas.draw()\n",
    "\n",
    "    def _resize(self, evt=None):\n",
    "        self.sg.fig.set_size_inches(self.fig.get_size_inches())"
   ]
  },
  {
   "cell_type": "code",
   "execution_count": 37,
   "id": "appointed-identifier",
   "metadata": {},
   "outputs": [
    {
     "data": {
      "image/png": "[encoded data removed]",
      "text/plain": [
       "<Figure size 936x432 with 8 Axes>"
      ]
     },
     "metadata": {
      "needs_background": "light"
     },
     "output_type": "display_data"
    }
   ],
   "source": [
    "g0 = joint_plot(alpha_values=alphas_u, beta_values=betas_u, color=\"C0\")\n",
    "g1 = joint_plot(alpha_values=alphas_a, beta_values=betas_a, color=\"C1\")\n",
    "\n",
    "subtitle0 = \"Estimates for each user\\n(average over all items)\"\n",
    "subtitle1 = \"Estimates for each item\\n(average over all users)\"\n",
    "\n",
    "fig = plt.figure(figsize=(13,6))\n",
    "gs = gridspec.GridSpec(2, 2, height_ratios=[0.02, 0.98])\n",
    "\n",
    "fig.suptitle(\"Human (param. estimates)\",\n",
    "             fontweight=\"bold\",\n",
    "             fontsize=fontsize_title)\n",
    "\n",
    "mg0 = SeabornFig2Grid(g0, fig, gs[1,0])\n",
    "mg1 = SeabornFig2Grid(g1, fig, gs[1, 1])\n",
    "\n",
    "\n",
    "ax = fig.add_subplot(gs[0, 0])\n",
    "ax.set_axis_off()\n",
    "ax.set_title(subtitle0.upper(), fontsize=fontsize_subtitle, ha='center', fontstyle='italic')\n",
    "ax.text(-0.2, 0.5, \"A\", transform=ax.transAxes, size=fontsize_letter, weight='bold')\n",
    "\n",
    "ax = fig.add_subplot(gs[0, 1])\n",
    "ax.set_axis_off()\n",
    "ax.set_title(subtitle1.upper(), fontsize=fontsize_subtitle, ha='center', fontstyle='italic')\n",
    "ax.text(-0.2, 0.5, \"B\", transform=ax.transAxes, size=fontsize_letter, weight='bold')\n",
    "\n",
    "gs.tight_layout(fig)\n",
    "# gs.update(top=0.7)\n",
    "\n",
    "plt.savefig(\"fig/fig5.pdf\")"
   ]
  },
  {
   "cell_type": "markdown",
   "id": "collaborative-sampling",
   "metadata": {},
   "source": [
    "# Statistics"
   ]
  },
  {
   "cell_type": "code",
   "execution_count": 13,
   "id": "graphic-exercise",
   "metadata": {},
   "outputs": [
    {
     "data": {
      "text/plain": [
       "(0.0006418608478792965, 0.00950816473897002)"
      ]
     },
     "execution_count": 13,
     "metadata": {},
     "output_type": "execute_result"
    }
   ],
   "source": [
    "stats.sem(alphas_u), stats.sem(betas_u)"
   ]
  },
  {
   "cell_type": "code",
   "execution_count": 14,
   "id": "incomplete-steam",
   "metadata": {},
   "outputs": [
    {
     "data": {
      "text/plain": [
       "(5.4748242006237056e-05, 0.0013006531618877967)"
      ]
     },
     "execution_count": 14,
     "metadata": {},
     "output_type": "execute_result"
    }
   ],
   "source": [
    "stats.sem(alphas_a), stats.sem(betas_a)"
   ]
  },
  {
   "cell_type": "code",
   "execution_count": 15,
   "id": "incomplete-alloy",
   "metadata": {},
   "outputs": [
    {
     "data": {
      "text/plain": [
       "(0.004628524397483191, 0.06856435100383017)"
      ]
     },
     "execution_count": 15,
     "metadata": {},
     "output_type": "execute_result"
    }
   ],
   "source": [
    "np.std(alphas_u), np.std(betas_u)"
   ]
  },
  {
   "cell_type": "code",
   "execution_count": 16,
   "id": "twelve-xerox",
   "metadata": {},
   "outputs": [
    {
     "data": {
      "text/plain": [
       "(0.002476412531399924, 0.05883209526137725)"
      ]
     },
     "execution_count": 16,
     "metadata": {},
     "output_type": "execute_result"
    }
   ],
   "source": [
    "np.std(alphas_a), np.std(betas_a)"
   ]
  }
 ],
 "metadata": {
  "kernelspec": {
   "display_name": "Python 3",
   "language": "python",
   "name": "python3"
  },
  "language_info": {
   "codemirror_mode": {
    "name": "ipython",
    "version": 3
   },
   "file_extension": ".py",
   "mimetype": "text/x-python",
   "name": "python",
   "nbconvert_exporter": "python",
   "pygments_lexer": "ipython3",
   "version": "3.9.1"
  }
 },
 "nbformat": 4,
 "nbformat_minor": 5
}