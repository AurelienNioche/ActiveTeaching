{
 "cells": [
  {
   "cell_type": "markdown",
   "metadata": {
    "collapsed": true,
    "pycharm": {
     "name": "#%% md\n"
    }
   },
   "source": [
    "# Walsh\n"
   ]
  },
  {
   "cell_type": "markdown",
   "source": [
    "The probability of recall of the item at the step $n$ is given by:\n",
    "\n",
    "\\begin{equation}\n",
    "p_n = \\dfrac{1}{1 + e^{\\dfrac{\\tau - M_n}{s}}}\n",
    "\\end{equation}\n",
    "with $\\tau$ a free parameter, $s$ a free parameter, $M_n$ defined as follows:"
   ],
   "metadata": {
    "collapsed": false
   }
  },
  {
   "cell_type": "markdown",
   "source": [
    "\\begin{equation}\n",
    "M_n = N_n^c \\cdot T^{-d_n}\n",
    "\\end{equation}\n",
    "with $c$ a free parameter, $N_n$ the number of repetition at step $n$, $T_n$ and $d$ defined as follows:"
   ],
   "metadata": {
    "collapsed": false
   }
  },
  {
   "cell_type": "markdown",
   "source": [
    "\\begin{equation}\n",
    "T_n = \\sum_{i=1}^{n} w_i \\cdot t_i \n",
    "\\end{equation}\n",
    "with $t_i$ the time elapsed since the step $i$, $w_i$ defined as follows:"
   ],
   "metadata": {
    "collapsed": false
   }
  },
  {
   "cell_type": "markdown",
   "source": [
    "\\begin{equation}\n",
    "w_i = \\dfrac{t_i^{-x}}{\\sum_{j=1}^{n} t_j ^{-x}}\n",
    "\\end{equation}\n",
    "with $x$ a free parameter, $t_j$ the time elapsed since the step $j$"
   ],
   "metadata": {
    "collapsed": false
   }
  },
  {
   "cell_type": "markdown",
   "source": [
    "\\begin{equation}\n",
    "d_n = b + m \\left( \\dfrac{1}{n-1} \\sum_{j=1}^{n-1} \\dfrac{1}{\\ln \\text{lag}_j + e}\\right)\n",
    "\\end{equation}\n",
    "with $b$ a free parameter, $m$ a free parameter, $n$ the step, $\\text{lag}_j$ the elapsed time between the review $j$ and $j+1$, $e$ the Euler number"
   ],
   "metadata": {
    "collapsed": false
   }
  },
  {
   "cell_type": "markdown",
   "source": [
    "$\\tau \\in [0.5, 1.5]$\n",
    "\n",
    "$s \\in [0, 0.1]$\n",
    "\n",
    "$b \\in [0, 0.2]$\n",
    "\n",
    "$m \\in [0, 0.2]$\n",
    "\n",
    "$x = 0.6$\n",
    "\n",
    "$c = 0.1$"
   ],
   "metadata": {
    "collapsed": false
   }
  },
  {
   "cell_type": "markdown",
   "metadata": {},
   "source": [
    "$\\tau \\in [0.5, 1.5]$\n",
    "\n",
    "$s \\in [0, 0.1]$\n",
    "\n",
    "$b \\in [0, 0.2]$\n",
    "\n",
    "$m \\in [0, 0.2]$\n",
    "\n",
    "$x = 0.6$\n",
    "\n",
    "$c = 0.1$"
   ]
  },
  {
   "cell_type": "markdown",
   "metadata": {},
   "source": [
    "\\begin{equation}\n",
    "M_n = N_n^c \\cdot T^{-d_n}\n",
    "\\end{equation}\n",
    "with $c$ a free parameter, $N_n$ the number of repetition at step $n$, $T_n$ and $d$ defined as follows:"
   ]
  },
  {
   "cell_type": "markdown",
   "metadata": {},
   "source": [
    "\\begin{equation}\n",
    "T_n = \\sum_{i=1}^{n} w_i \\cdot t_i \n",
    "\\end{equation}\n",
    "with $t_i$ the time elapsed since the step $i$, $w_i$ defined as follows:"
   ]
  },
  {
   "cell_type": "markdown",
   "metadata": {},
   "source": [
    "\\begin{equation}\n",
    "w_i = \\dfrac{t_i^{-x}}{\\sum_{j=1}^{n} t_j ^{-x}}\n",
    "\\end{equation}\n",
    "with $x$ a free parameter, $t_j$ the time elapsed since the step $j$"
   ]
  },
  {
   "cell_type": "markdown",
   "metadata": {},
   "source": [
    "\\begin{equation}\n",
    "d_n = b + m \\left( \\dfrac{1}{n-1} \\sum_{j=1}^{n-1} \\dfrac{1}{\\ln \\text{lag}_j + e}\\right)\n",
    "\\end{equation}\n",
    "with $b$ a free parameter, $m$ a free parameter, $n$ the step, $\\text{lag}_j$ the elapsed time between the review $j$ and $j+1$, $e$ the Euler number"
   ]
  },
  {
   "cell_type": "markdown",
   "metadata": {},
   "source": [
    "$\\tau \\in [0.5, 1.5]$\n",
    "\n",
    "$s \\in [0, 0.1]$\n",
    "\n",
    "$b \\in [0, 0.2]$\n",
    "\n",
    "$m \\in [0, 0.2]$\n",
    "\n",
    "$x = 0.6$\n",
    "\n",
    "$c = 0.1$"
   ]
  }
 ],
 "metadata": {
  "kernelspec": {
   "display_name": "Python 3",
   "language": "python",
   "name": "python3"
  },
  "language_info": {
   "codemirror_mode": {
    "name": "ipython",
    "version": 3
   },
   "file_extension": ".py",
   "mimetype": "text/x-python",
   "name": "python",
   "nbconvert_exporter": "python",
   "pygments_lexer": "ipython3",
   "version": "3.8.6"
  }
 },
 "nbformat": 4,
 "nbformat_minor": 1
}