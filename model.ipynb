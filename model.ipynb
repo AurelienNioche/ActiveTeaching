{
 "cells": [
  {
   "cell_type": "markdown",
   "metadata": {
    "collapsed": true,
    "pycharm": {
     "name": "#%% md\n"
    }
   },
   "source": [
    "We look for the optimal design $i^{**}$ such as:\n",
    "\n",
    "\\begin{equation}\n",
    "i^{**} = \\arg \\max_{i}{U(i)}\n",
    "\\end{equation}\n",
    "\n",
    "We define the utility function of $i$:\n",
    "\n",
    "\\begin{equation}\n",
    "U(i) = I_t(\\Theta; Y\\mid i) + \\arg \\max_{j\\in N} I_{t+1}(\\Theta; Y\\mid j)\n",
    "\\end{equation}\n",
    "\n",
    "Behavioral output:\n",
    "\n",
    "\\begin{equation}\n",
    "Y = \\{\\text{recalling, not recalling}\\}\n",
    "\\end{equation}\n",
    "\n",
    "Marginal likelihood:\n",
    "\n",
    "\\begin{equation}\n",
    "p(y \\mid i) = \\int p(y\\mid \\theta, i) p(\\theta)\\,d\\theta\n",
    "\\end{equation}\n",
    "\n",
    "Marginal entropy:\n",
    "\n",
    "\\begin{equation}\n",
    "H(Y \\mid i) = - \\sum_{y \\in Y} p(y \\mid i) \\log p(y \\mid i)\n",
    "\\end{equation}\n",
    "\n",
    "Conditional entropy:\n",
    "\n",
    "\\begin{equation}\n",
    "H(Y \\mid \\Theta, i) = \n",
    " - \\int p(\\theta) \\sum_{y\\in Y} p(y\\mid \\theta, i) \\log p(y\\mid \\theta, i)\\, d\\theta\n",
    "\\end{equation}\n",
    "         \n",
    "Mutual information:\n",
    "\n",
    "\\begin{split}\n",
    "I_t(\\Theta; Y\\mid i) &= H_t(\\Theta \\mid i) - H_t(\\Theta \\mid Y, i)\\\\\n",
    "    &= H_t(Y \\mid i) - H_t(Y \\mid \\Theta, i)\n",
    "\\end{split}"
   ]
  }
 ],
 "metadata": {
  "kernelspec": {
   "display_name": "Python 3",
   "language": "python",
   "name": "python3"
  },
  "language_info": {
   "codemirror_mode": {
    "name": "ipython",
    "version": 2
   },
   "file_extension": ".py",
   "mimetype": "text/x-python",
   "name": "python",
   "nbconvert_exporter": "python",
   "pygments_lexer": "ipython2",
   "version": "2.7.6"
  },
  "pycharm": {
   "stem_cell": {
    "cell_type": "raw",
    "source": [],
    "metadata": {
     "collapsed": false
    }
   }
  }
 },
 "nbformat": 4,
 "nbformat_minor": 0
}