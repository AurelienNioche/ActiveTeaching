{
 "cells": [
  {
   "cell_type": "markdown",
   "metadata": {
    "collapsed": true,
    "pycharm": {
     "name": "#%% md\n"
    }
   },
   "source": [
    "# Model\n",
    "\n",
    "## Psychologist\n",
    "\n",
    "We look for the optimal design $i^{**}$ such as:\n",
    "\n",
    "\\begin{equation}\n",
    "i^{**} = \\arg \\max_{i}{U(i)}\n",
    "\\end{equation}\n",
    "\n",
    "We define the utility function of $i$:\n",
    "\n",
    "\\begin{equation}\n",
    "U(i) = I_t(\\Theta; Y\\mid i) + \\arg \\max_{j\\in N} I_{t+1}(\\Theta; Y\\mid j)\n",
    "\\end{equation}\n",
    "\n",
    "Behavioral output:\n",
    "\n",
    "\\begin{equation}\n",
    "Y = \\{\\text{recalling, not recalling}\\}\n",
    "\\end{equation}\n",
    "\n",
    "Marginal likelihood:\n",
    "\n",
    "\\begin{equation}\n",
    "p(y \\mid i) = \\int p(y\\mid \\theta, i) p(\\theta)\\,d\\theta\n",
    "\\end{equation}\n",
    "\n",
    "Marginal entropy:\n",
    "\n",
    "\\begin{equation}\n",
    "H(Y \\mid i) = - \\sum_{y \\in Y} p(y \\mid i) \\log p(y \\mid i)\n",
    "\\end{equation}\n",
    "\n",
    "Conditional entropy:\n",
    "\n",
    "\\begin{equation}\n",
    "H(Y \\mid \\Theta, i) = \n",
    " - \\int p(\\theta) \\sum_{y\\in Y} p(y\\mid \\theta, i) \\log p(y\\mid \\theta, i)\\, d\\theta\n",
    "\\end{equation}\n",
    "         \n",
    "Mutual information:\n",
    "\n",
    "\\begin{split}\n",
    "I_t(\\Theta; Y\\mid i) &= H_t(\\Theta \\mid i) - H_t(\\Theta \\mid Y, i)\\\\\n",
    "    &= H_t(Y \\mid i) - H_t(Y \\mid \\Theta, i)\n",
    "\\end{split}\n",
    "\n",
    "## Teacher \n",
    "\n",
    "\n",
    "\\begin{equation}\n",
    "- \\dfrac{1}{\\mid S \\mid} \\sum_{i \\in S} ( \\tau - p(i) )^2 + \n",
    "\\alpha \\dfrac{1}{\\mid S \\mid} \\sum_{i \\in S} p(i) ^{1-\\xi}\n",
    "- \\beta \\dfrac{1}{\\mid S \\mid} \\sum_{i \\in S} \\eta(i)^t\n",
    " + (1-\\alpha-\\beta) \\dfrac{\\mid S \\mid}{t}\n",
    "\\end{equation}\n",
    "\n",
    "## Learner \n",
    "\n",
    "\\begin{equation}\n",
    "P_{i} = \\exp(-\\eta_i(t)(t - t_r)),\n",
    "\\end{equation}\n",
    "\n",
    "\\begin{equation}\n",
    "\\eta_i(t) = \n",
    "\\begin{cases}\n",
    "\\alpha & \\text{ if first presentation},\\\\\n",
    " (1 - \\beta)\\eta_i(t_r) & \\text{otherwise.}\\\\ \n",
    "\\end{cases}\n",
    "\\end{equation}"
   ]
  },
  {
   "cell_type": "code",
   "execution_count": null,
   "metadata": {},
   "outputs": [],
   "source": []
  }
 ],
 "metadata": {
  "kernelspec": {
   "display_name": "Python 3",
   "language": "python",
   "name": "python3"
  },
  "language_info": {
   "codemirror_mode": {
    "name": "ipython",
    "version": 3
   },
   "file_extension": ".py",
   "mimetype": "text/x-python",
   "name": "python",
   "nbconvert_exporter": "python",
   "pygments_lexer": "ipython3",
   "version": "3.7.5"
  },
  "pycharm": {
   "stem_cell": {
    "cell_type": "raw",
    "metadata": {
     "collapsed": false
    },
    "source": []
   }
  }
 },
 "nbformat": 4,
 "nbformat_minor": 1
}
