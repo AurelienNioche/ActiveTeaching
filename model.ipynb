{
 "cells": [
  {
   "cell_type": "markdown",
   "metadata": {
    "collapsed": true,
    "pycharm": {
     "name": "#%% md\n"
    }
   },
   "source": [
    "# Model\n",
    "\n",
    "## Psychologist\n",
    "\n",
    "We look for the optimal design $i^{**}$ such as:\n",
    "\n",
    "\\begin{equation}\n",
    "i^{**} = \\arg \\max_{i}{U^P(i)}\n",
    "\\end{equation}\n",
    "\n",
    "We define a utility function for the 'psychologist' $U^P$:\n",
    "\n",
    "\\begin{equation}\n",
    "U^P(i) = I_t(\\Theta; Y\\mid i) + \\arg \\max_{j\\in N} I_{t+1}(\\Theta; Y\\mid j)\n",
    "\\end{equation}\n",
    "\n",
    "Behavioral output:\n",
    "\n",
    "\\begin{equation}\n",
    "Y = \\{\\text{recalling, not recalling}\\}\n",
    "\\end{equation}\n",
    "\n",
    "Marginal likelihood:\n",
    "\n",
    "\\begin{equation}\n",
    "p(y \\mid i) = \\int p(y\\mid \\theta, i) p(\\theta)\\,d\\theta\n",
    "\\end{equation}\n",
    "\n",
    "Marginal entropy:\n",
    "\n",
    "\\begin{equation}\n",
    "H(Y \\mid i) = - \\sum_{y \\in Y} p(y \\mid i) \\log p(y \\mid i)\n",
    "\\end{equation}\n",
    "\n",
    "Conditional entropy:\n",
    "\n",
    "\\begin{equation}\n",
    "H(Y \\mid \\Theta, i) = \n",
    " - \\int p(\\theta) \\sum_{y\\in Y} p(y\\mid \\theta, i) \\log p(y\\mid \\theta, i)\\, d\\theta\n",
    "\\end{equation}\n",
    "         \n",
    "Mutual information:\n",
    "\n",
    "\\begin{split}\n",
    "I_t(\\Theta; Y\\mid i) &= H_t(\\Theta \\mid i) - H_t(\\Theta \\mid Y, i)\\\\\n",
    "    &= H_t(Y \\mid i) - H_t(Y \\mid \\Theta, i)\n",
    "\\end{split}\n",
    "\n",
    "## Teacher \n",
    "\n",
    "We define a utility function for the 'teacher' $U^T$:\n",
    "\n",
    "\\begin{equation} \n",
    "U^T(i) = \\alpha \\dfrac{1}{\\mid S \\mid} \\sum_{i \\in S} p^{t+1}(i) ^{1-\\xi}\n",
    "- \\beta \\dfrac{1}{\\mid S \\mid} \\sum_{i \\in S} \\eta^{t+1}(i)\n",
    " + (1-\\alpha-\\beta) \\dfrac{\\mid S \\mid}{t}\n",
    "\\end{equation}\n",
    "given that $i$ is presented at $t$.\n",
    "\n",
    "Eventualy, add a term for motivation:\n",
    "\\begin{equation} \n",
    "- ( \\tau - p(i) )^2\n",
    "\\end{equation}\n",
    "\n",
    "## Learner \n",
    "\n",
    "\\begin{equation}\n",
    "p^t(i) = \\exp(-\\eta^t(i)(t - t_r(i))),\n",
    "\\end{equation}\n",
    "\n",
    "\\begin{equation}\n",
    "\\eta^t(i) = \n",
    "\\begin{cases}\n",
    "\\alpha & \\text{ if first presentation},\\\\\n",
    " (1 - \\beta)\\eta^{t_r(i)}(i) & \\text{otherwise.}\\\\ \n",
    "\\end{cases}\n",
    "\\end{equation}"
   ]
  },
  {
   "cell_type": "code",
   "execution_count": null,
   "metadata": {},
   "outputs": [],
   "source": []
  }
 ],
 "metadata": {
  "kernelspec": {
   "display_name": "Python 3",
   "language": "python",
   "name": "python3"
  },
  "language_info": {
   "codemirror_mode": {
    "name": "ipython",
    "version": 3
   },
   "file_extension": ".py",
   "mimetype": "text/x-python",
   "name": "python",
   "nbconvert_exporter": "python",
   "pygments_lexer": "ipython3",
   "version": "3.7.5"
  },
  "pycharm": {
   "stem_cell": {
    "cell_type": "raw",
    "source": [],
    "metadata": {
     "collapsed": false
    }
   }
  }
 },
 "nbformat": 4,
 "nbformat_minor": 1
}